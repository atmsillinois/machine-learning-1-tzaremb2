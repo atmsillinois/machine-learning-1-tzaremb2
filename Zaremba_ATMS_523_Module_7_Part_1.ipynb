{
  "nbformat": 4,
  "nbformat_minor": 0,
  "metadata": {
    "colab": {
      "provenance": []
    },
    "kernelspec": {
      "name": "python3",
      "display_name": "Python 3"
    },
    "language_info": {
      "name": "python"
    },
    "gpuClass": "standard"
  },
  "cells": [
    {
      "cell_type": "markdown",
      "source": [
        "# Neural network classification demo (Tensorflow)\n",
        "\n",
        "### Our task will be to design a neural network to classify precipiation type using temperature and dewpoint data from weather stations in Illinois.  How accurate can you make it by changing the network design.\n",
        "\n",
        "1. Download and read data\n",
        "\n",
        "Dataset is 5 minute automated surface observing system data from Illinois sites from 2000-2022 containing temperature, dewpoint temperature, and observed precipiation types and amounts."
      ],
      "metadata": {
        "id": "YicNtCq5miG-"
      }
    },
    {
      "cell_type": "code",
      "source": [
        "!wget https://uofi.box.com/shared/static/g5xaekm0hpxbqmoco8hs6r1bnivi9kgz.csv -O illinois_asos.csv"
      ],
      "metadata": {
        "colab": {
          "base_uri": "https://localhost:8080/"
        },
        "id": "JpdnEAT1kNSk",
        "outputId": "6d34d3aa-1b87-4e2f-d00e-7b99c711a747"
      },
      "execution_count": 1,
      "outputs": [
        {
          "output_type": "stream",
          "name": "stdout",
          "text": [
            "--2022-12-06 02:41:27--  https://uofi.box.com/shared/static/g5xaekm0hpxbqmoco8hs6r1bnivi9kgz.csv\n",
            "Resolving uofi.box.com (uofi.box.com)... 74.112.186.144\n",
            "Connecting to uofi.box.com (uofi.box.com)|74.112.186.144|:443... connected.\n",
            "HTTP request sent, awaiting response... 301 Moved Permanently\n",
            "Location: /public/static/g5xaekm0hpxbqmoco8hs6r1bnivi9kgz.csv [following]\n",
            "--2022-12-06 02:41:27--  https://uofi.box.com/public/static/g5xaekm0hpxbqmoco8hs6r1bnivi9kgz.csv\n",
            "Reusing existing connection to uofi.box.com:443.\n",
            "HTTP request sent, awaiting response... 301 Moved Permanently\n",
            "Location: https://uofi.app.box.com/public/static/g5xaekm0hpxbqmoco8hs6r1bnivi9kgz.csv [following]\n",
            "--2022-12-06 02:41:27--  https://uofi.app.box.com/public/static/g5xaekm0hpxbqmoco8hs6r1bnivi9kgz.csv\n",
            "Resolving uofi.app.box.com (uofi.app.box.com)... 74.112.186.144\n",
            "Connecting to uofi.app.box.com (uofi.app.box.com)|74.112.186.144|:443... connected.\n",
            "HTTP request sent, awaiting response... 302 Found\n",
            "Location: https://dl2.boxcloud.com/d/1/b1!JQyjBoZeYn9gMyXjJ10HAMQtcl0NS6ZtqpwUaEG-2KL7y1obkHumQKeihj1sfSEEJCp2uckbONZIkBrHEYe6d3_P3Bv07s4c1aEZnifmie3xbS-N0Zq8rulgXeF4UZPrih70C76RGFB7cn8XeR2aOfZ2sjBxGI5eXrlDWrLFvBqDf6xi27LD9axxM3oSzdUHH3WhDD8qKA8iMa6bf8HeD9W5_nRwl6dVPu17rOhJz_k7duNqov-7f5Cax7oR23jxoMw7YJ8KbwwOiYHwvPcmro-Bh8cVCHZ0jyQz1VE1tOP0Br3jgcQo7eh9u_7TNSyxz9UbCOVB9Ppe-QIJgVqufDPGdAYdQ_oD3a5iL8Cl9eYExXTOjVvcalymvDoru-hlaH1lif7EcIey1S2LLfBTFazZu9xfFM07nCz-vfpYZN50drxneQ_nnpxb4k4N-N3_s2CQ8k0pfKA34-FITTqA1atphsCA5ylh5-UMdgo3HndUmkPAMDyUDvwvmPkCEF5yo1TdJSuvkR9KRW1CeegGKDMkJxNVVcww3DQNSOJ838V5qw188dnMk2isffda3r70RqB-8dD6jVCmNNbaY3xziSqK6Io3r0yi2DbCXRJJuvU-auzQF6LdAVC_O6B59TQ1ojqnEeEWw41q4lhf0DW9OyfHBpqvNQW_1DOrhZDf0cB-J-Q3DxXXR8C9F6pJ3YpXFz1cyz2WD623p0iS7gdocN3y3ifzCmVtb3-KHkzqt9KUIK2wD7o7x8h6GjnQMj2Ent4swLqwij5oxAw-yVVmu50FIVnm7U2MEzFxqFoiJRIn5sIxkbTxT8t5Lr7ygZqPgtCYd0txQnpyk1nMfivBvDHRwyFkDkFYJ6j-etcBXETKsrdkFMOXj215rM1EI58Dk20_2PMIvLjjMGA-OkHOK3W3j1WCgLBK2TNdjXuuJTVczudYL4_6aUA78GdQsTjPSxfxntcvHO-xwZcTYmVlrD9XImcDqUO7XiDATB0Z5E_eQ2RU-tEnLVOLGdFihcC5tq0pkwqVF_P5Iuyxw9S7hRMfFmxU4Hu8OW8Y-GHkGfSyQZSlVCcIYz3M2qWMFTjrDO2YPxo7SN426nEDyWaYENIantTcpLF7CIuyLf4_O6_ZsvXzkDa1_98beiUSr2tRz6py9IvC1q6WVpAStzkPfVGNbL8k0CgYjlXtjr9DYucGIujxVYWT8E3nvqygi76HhVOQOzSs842ny13e3Fm4hTWpPctMe72p-eCtDazn7uX6iwhXIBwTwvxbNM118fPWxe1VAY4HsOAz_V7fTBTOM-En-oSqP2ABelIfIW3TFiCLeJ_e8Dg4IiVl_JMWXWDpWTtul-bIlbD_A9e0WGkaknwvcQHMqmLtN9aWmbRz/download [following]\n",
            "--2022-12-06 02:41:28--  https://dl2.boxcloud.com/d/1/b1!JQyjBoZeYn9gMyXjJ10HAMQtcl0NS6ZtqpwUaEG-2KL7y1obkHumQKeihj1sfSEEJCp2uckbONZIkBrHEYe6d3_P3Bv07s4c1aEZnifmie3xbS-N0Zq8rulgXeF4UZPrih70C76RGFB7cn8XeR2aOfZ2sjBxGI5eXrlDWrLFvBqDf6xi27LD9axxM3oSzdUHH3WhDD8qKA8iMa6bf8HeD9W5_nRwl6dVPu17rOhJz_k7duNqov-7f5Cax7oR23jxoMw7YJ8KbwwOiYHwvPcmro-Bh8cVCHZ0jyQz1VE1tOP0Br3jgcQo7eh9u_7TNSyxz9UbCOVB9Ppe-QIJgVqufDPGdAYdQ_oD3a5iL8Cl9eYExXTOjVvcalymvDoru-hlaH1lif7EcIey1S2LLfBTFazZu9xfFM07nCz-vfpYZN50drxneQ_nnpxb4k4N-N3_s2CQ8k0pfKA34-FITTqA1atphsCA5ylh5-UMdgo3HndUmkPAMDyUDvwvmPkCEF5yo1TdJSuvkR9KRW1CeegGKDMkJxNVVcww3DQNSOJ838V5qw188dnMk2isffda3r70RqB-8dD6jVCmNNbaY3xziSqK6Io3r0yi2DbCXRJJuvU-auzQF6LdAVC_O6B59TQ1ojqnEeEWw41q4lhf0DW9OyfHBpqvNQW_1DOrhZDf0cB-J-Q3DxXXR8C9F6pJ3YpXFz1cyz2WD623p0iS7gdocN3y3ifzCmVtb3-KHkzqt9KUIK2wD7o7x8h6GjnQMj2Ent4swLqwij5oxAw-yVVmu50FIVnm7U2MEzFxqFoiJRIn5sIxkbTxT8t5Lr7ygZqPgtCYd0txQnpyk1nMfivBvDHRwyFkDkFYJ6j-etcBXETKsrdkFMOXj215rM1EI58Dk20_2PMIvLjjMGA-OkHOK3W3j1WCgLBK2TNdjXuuJTVczudYL4_6aUA78GdQsTjPSxfxntcvHO-xwZcTYmVlrD9XImcDqUO7XiDATB0Z5E_eQ2RU-tEnLVOLGdFihcC5tq0pkwqVF_P5Iuyxw9S7hRMfFmxU4Hu8OW8Y-GHkGfSyQZSlVCcIYz3M2qWMFTjrDO2YPxo7SN426nEDyWaYENIantTcpLF7CIuyLf4_O6_ZsvXzkDa1_98beiUSr2tRz6py9IvC1q6WVpAStzkPfVGNbL8k0CgYjlXtjr9DYucGIujxVYWT8E3nvqygi76HhVOQOzSs842ny13e3Fm4hTWpPctMe72p-eCtDazn7uX6iwhXIBwTwvxbNM118fPWxe1VAY4HsOAz_V7fTBTOM-En-oSqP2ABelIfIW3TFiCLeJ_e8Dg4IiVl_JMWXWDpWTtul-bIlbD_A9e0WGkaknwvcQHMqmLtN9aWmbRz/download\n",
            "Resolving dl2.boxcloud.com (dl2.boxcloud.com)... 74.112.186.128\n",
            "Connecting to dl2.boxcloud.com (dl2.boxcloud.com)|74.112.186.128|:443... connected.\n",
            "HTTP request sent, awaiting response... 200 OK\n",
            "Length: 123182165 (117M) [text/csv]\n",
            "Saving to: ‘illinois_asos.csv’\n",
            "\n",
            "illinois_asos.csv   100%[===================>] 117.48M  18.6MB/s    in 6.3s    \n",
            "\n",
            "2022-12-06 02:41:36 (18.5 MB/s) - ‘illinois_asos.csv’ saved [123182165/123182165]\n",
            "\n"
          ]
        }
      ]
    },
    {
      "cell_type": "code",
      "source": [
        "!pip install metpy"
      ],
      "metadata": {
        "colab": {
          "base_uri": "https://localhost:8080/"
        },
        "id": "d-IZACl5I_tI",
        "outputId": "6c619d76-9c13-4369-ef6a-cf39970f8603"
      },
      "execution_count": 2,
      "outputs": [
        {
          "output_type": "stream",
          "name": "stdout",
          "text": [
            "Looking in indexes: https://pypi.org/simple, https://us-python.pkg.dev/colab-wheels/public/simple/\n",
            "Requirement already satisfied: metpy in /usr/local/lib/python3.8/dist-packages (1.3.1)\n",
            "Requirement already satisfied: xarray>=0.14.1 in /usr/local/lib/python3.8/dist-packages (from metpy) (0.20.2)\n",
            "Requirement already satisfied: pyproj>=2.5.0 in /usr/local/lib/python3.8/dist-packages (from metpy) (3.4.0)\n",
            "Requirement already satisfied: importlib-resources>=1.3.0 in /usr/local/lib/python3.8/dist-packages (from metpy) (5.10.0)\n",
            "Requirement already satisfied: numpy>=1.18.0 in /usr/local/lib/python3.8/dist-packages (from metpy) (1.21.6)\n",
            "Requirement already satisfied: scipy>=1.4.0 in /usr/local/lib/python3.8/dist-packages (from metpy) (1.7.3)\n",
            "Requirement already satisfied: matplotlib>=3.3.0 in /usr/local/lib/python3.8/dist-packages (from metpy) (3.6.2)\n",
            "Requirement already satisfied: traitlets>=4.3.0 in /usr/local/lib/python3.8/dist-packages (from metpy) (5.1.1)\n",
            "Requirement already satisfied: pooch>=1.2.0 in /usr/local/lib/python3.8/dist-packages (from metpy) (1.6.0)\n",
            "Requirement already satisfied: pandas>=1.0.0 in /usr/local/lib/python3.8/dist-packages (from metpy) (1.3.5)\n",
            "Requirement already satisfied: pint>=0.10.1 in /usr/local/lib/python3.8/dist-packages (from metpy) (0.20.1)\n",
            "Requirement already satisfied: zipp>=3.1.0 in /usr/local/lib/python3.8/dist-packages (from importlib-resources>=1.3.0->metpy) (3.10.0)\n",
            "Requirement already satisfied: packaging>=20.0 in /usr/local/lib/python3.8/dist-packages (from matplotlib>=3.3.0->metpy) (21.3)\n",
            "Requirement already satisfied: fonttools>=4.22.0 in /usr/local/lib/python3.8/dist-packages (from matplotlib>=3.3.0->metpy) (4.38.0)\n",
            "Requirement already satisfied: kiwisolver>=1.0.1 in /usr/local/lib/python3.8/dist-packages (from matplotlib>=3.3.0->metpy) (1.4.4)\n",
            "Requirement already satisfied: cycler>=0.10 in /usr/local/lib/python3.8/dist-packages (from matplotlib>=3.3.0->metpy) (0.11.0)\n",
            "Requirement already satisfied: pyparsing>=2.2.1 in /usr/local/lib/python3.8/dist-packages (from matplotlib>=3.3.0->metpy) (3.0.9)\n",
            "Requirement already satisfied: python-dateutil>=2.7 in /usr/local/lib/python3.8/dist-packages (from matplotlib>=3.3.0->metpy) (2.8.2)\n",
            "Requirement already satisfied: pillow>=6.2.0 in /usr/local/lib/python3.8/dist-packages (from matplotlib>=3.3.0->metpy) (7.1.2)\n",
            "Requirement already satisfied: contourpy>=1.0.1 in /usr/local/lib/python3.8/dist-packages (from matplotlib>=3.3.0->metpy) (1.0.6)\n",
            "Requirement already satisfied: pytz>=2017.3 in /usr/local/lib/python3.8/dist-packages (from pandas>=1.0.0->metpy) (2022.6)\n",
            "Requirement already satisfied: appdirs>=1.3.0 in /usr/local/lib/python3.8/dist-packages (from pooch>=1.2.0->metpy) (1.4.4)\n",
            "Requirement already satisfied: requests>=2.19.0 in /usr/local/lib/python3.8/dist-packages (from pooch>=1.2.0->metpy) (2.23.0)\n",
            "Requirement already satisfied: certifi in /usr/local/lib/python3.8/dist-packages (from pyproj>=2.5.0->metpy) (2022.9.24)\n",
            "Requirement already satisfied: six>=1.5 in /usr/local/lib/python3.8/dist-packages (from python-dateutil>=2.7->matplotlib>=3.3.0->metpy) (1.15.0)\n",
            "Requirement already satisfied: chardet<4,>=3.0.2 in /usr/local/lib/python3.8/dist-packages (from requests>=2.19.0->pooch>=1.2.0->metpy) (3.0.4)\n",
            "Requirement already satisfied: idna<3,>=2.5 in /usr/local/lib/python3.8/dist-packages (from requests>=2.19.0->pooch>=1.2.0->metpy) (2.10)\n",
            "Requirement already satisfied: urllib3!=1.25.0,!=1.25.1,<1.26,>=1.21.1 in /usr/local/lib/python3.8/dist-packages (from requests>=2.19.0->pooch>=1.2.0->metpy) (1.24.3)\n"
          ]
        }
      ]
    },
    {
      "cell_type": "markdown",
      "source": [
        "2. Import data"
      ],
      "metadata": {
        "id": "AUzw0cr1zklf"
      }
    },
    {
      "cell_type": "code",
      "source": [
        "import pandas as pd\n",
        "import tensorflow as tf\n",
        "df = pd.read_csv('illinois_asos.csv', delimiter=',')\n",
        "\n",
        "df"
      ],
      "metadata": {
        "id": "uY3xVCKokj4h",
        "outputId": "2c582fe7-e783-4059-dd59-3eb9136d63fa",
        "colab": {
          "base_uri": "https://localhost:8080/",
          "height": 424
        }
      },
      "execution_count": 3,
      "outputs": [
        {
          "output_type": "execute_result",
          "data": {
            "text/plain": [
              "        station             valid   tmpf   dwpf  p01i wxcodes\n",
              "0           MDW  2000-01-01 00:53  35.00  29.00     M       M\n",
              "1           DPA  2000-01-01 00:53  28.04  24.08     M       M\n",
              "2           PIA  2000-01-01 00:54  26.06  19.04     M       M\n",
              "3           SPI  2000-01-01 00:54  19.94  15.08     M       M\n",
              "4           RFD  2000-01-01 00:54  19.94  15.98     M       M\n",
              "...         ...               ...    ...    ...   ...     ...\n",
              "3167008     UGN  2022-11-29 23:55  57.90  48.90  0.00       M\n",
              "3167009     DKB  2022-11-29 23:55  54.50  52.50  0.00       M\n",
              "3167010     DNV  2022-11-29 23:55  57.70  53.60  0.00       M\n",
              "3167011     JOT  2022-11-29 23:55  58.60  54.00  0.00       M\n",
              "3167012     BMI  2022-11-29 23:56  55.90  53.10  0.00       M\n",
              "\n",
              "[3167013 rows x 6 columns]"
            ],
            "text/html": [
              "\n",
              "  <div id=\"df-7c4d2a39-8788-4acf-b22f-5d9129c80bb8\">\n",
              "    <div class=\"colab-df-container\">\n",
              "      <div>\n",
              "<style scoped>\n",
              "    .dataframe tbody tr th:only-of-type {\n",
              "        vertical-align: middle;\n",
              "    }\n",
              "\n",
              "    .dataframe tbody tr th {\n",
              "        vertical-align: top;\n",
              "    }\n",
              "\n",
              "    .dataframe thead th {\n",
              "        text-align: right;\n",
              "    }\n",
              "</style>\n",
              "<table border=\"1\" class=\"dataframe\">\n",
              "  <thead>\n",
              "    <tr style=\"text-align: right;\">\n",
              "      <th></th>\n",
              "      <th>station</th>\n",
              "      <th>valid</th>\n",
              "      <th>tmpf</th>\n",
              "      <th>dwpf</th>\n",
              "      <th>p01i</th>\n",
              "      <th>wxcodes</th>\n",
              "    </tr>\n",
              "  </thead>\n",
              "  <tbody>\n",
              "    <tr>\n",
              "      <th>0</th>\n",
              "      <td>MDW</td>\n",
              "      <td>2000-01-01 00:53</td>\n",
              "      <td>35.00</td>\n",
              "      <td>29.00</td>\n",
              "      <td>M</td>\n",
              "      <td>M</td>\n",
              "    </tr>\n",
              "    <tr>\n",
              "      <th>1</th>\n",
              "      <td>DPA</td>\n",
              "      <td>2000-01-01 00:53</td>\n",
              "      <td>28.04</td>\n",
              "      <td>24.08</td>\n",
              "      <td>M</td>\n",
              "      <td>M</td>\n",
              "    </tr>\n",
              "    <tr>\n",
              "      <th>2</th>\n",
              "      <td>PIA</td>\n",
              "      <td>2000-01-01 00:54</td>\n",
              "      <td>26.06</td>\n",
              "      <td>19.04</td>\n",
              "      <td>M</td>\n",
              "      <td>M</td>\n",
              "    </tr>\n",
              "    <tr>\n",
              "      <th>3</th>\n",
              "      <td>SPI</td>\n",
              "      <td>2000-01-01 00:54</td>\n",
              "      <td>19.94</td>\n",
              "      <td>15.08</td>\n",
              "      <td>M</td>\n",
              "      <td>M</td>\n",
              "    </tr>\n",
              "    <tr>\n",
              "      <th>4</th>\n",
              "      <td>RFD</td>\n",
              "      <td>2000-01-01 00:54</td>\n",
              "      <td>19.94</td>\n",
              "      <td>15.98</td>\n",
              "      <td>M</td>\n",
              "      <td>M</td>\n",
              "    </tr>\n",
              "    <tr>\n",
              "      <th>...</th>\n",
              "      <td>...</td>\n",
              "      <td>...</td>\n",
              "      <td>...</td>\n",
              "      <td>...</td>\n",
              "      <td>...</td>\n",
              "      <td>...</td>\n",
              "    </tr>\n",
              "    <tr>\n",
              "      <th>3167008</th>\n",
              "      <td>UGN</td>\n",
              "      <td>2022-11-29 23:55</td>\n",
              "      <td>57.90</td>\n",
              "      <td>48.90</td>\n",
              "      <td>0.00</td>\n",
              "      <td>M</td>\n",
              "    </tr>\n",
              "    <tr>\n",
              "      <th>3167009</th>\n",
              "      <td>DKB</td>\n",
              "      <td>2022-11-29 23:55</td>\n",
              "      <td>54.50</td>\n",
              "      <td>52.50</td>\n",
              "      <td>0.00</td>\n",
              "      <td>M</td>\n",
              "    </tr>\n",
              "    <tr>\n",
              "      <th>3167010</th>\n",
              "      <td>DNV</td>\n",
              "      <td>2022-11-29 23:55</td>\n",
              "      <td>57.70</td>\n",
              "      <td>53.60</td>\n",
              "      <td>0.00</td>\n",
              "      <td>M</td>\n",
              "    </tr>\n",
              "    <tr>\n",
              "      <th>3167011</th>\n",
              "      <td>JOT</td>\n",
              "      <td>2022-11-29 23:55</td>\n",
              "      <td>58.60</td>\n",
              "      <td>54.00</td>\n",
              "      <td>0.00</td>\n",
              "      <td>M</td>\n",
              "    </tr>\n",
              "    <tr>\n",
              "      <th>3167012</th>\n",
              "      <td>BMI</td>\n",
              "      <td>2022-11-29 23:56</td>\n",
              "      <td>55.90</td>\n",
              "      <td>53.10</td>\n",
              "      <td>0.00</td>\n",
              "      <td>M</td>\n",
              "    </tr>\n",
              "  </tbody>\n",
              "</table>\n",
              "<p>3167013 rows × 6 columns</p>\n",
              "</div>\n",
              "      <button class=\"colab-df-convert\" onclick=\"convertToInteractive('df-7c4d2a39-8788-4acf-b22f-5d9129c80bb8')\"\n",
              "              title=\"Convert this dataframe to an interactive table.\"\n",
              "              style=\"display:none;\">\n",
              "        \n",
              "  <svg xmlns=\"http://www.w3.org/2000/svg\" height=\"24px\"viewBox=\"0 0 24 24\"\n",
              "       width=\"24px\">\n",
              "    <path d=\"M0 0h24v24H0V0z\" fill=\"none\"/>\n",
              "    <path d=\"M18.56 5.44l.94 2.06.94-2.06 2.06-.94-2.06-.94-.94-2.06-.94 2.06-2.06.94zm-11 1L8.5 8.5l.94-2.06 2.06-.94-2.06-.94L8.5 2.5l-.94 2.06-2.06.94zm10 10l.94 2.06.94-2.06 2.06-.94-2.06-.94-.94-2.06-.94 2.06-2.06.94z\"/><path d=\"M17.41 7.96l-1.37-1.37c-.4-.4-.92-.59-1.43-.59-.52 0-1.04.2-1.43.59L10.3 9.45l-7.72 7.72c-.78.78-.78 2.05 0 2.83L4 21.41c.39.39.9.59 1.41.59.51 0 1.02-.2 1.41-.59l7.78-7.78 2.81-2.81c.8-.78.8-2.07 0-2.86zM5.41 20L4 18.59l7.72-7.72 1.47 1.35L5.41 20z\"/>\n",
              "  </svg>\n",
              "      </button>\n",
              "      \n",
              "  <style>\n",
              "    .colab-df-container {\n",
              "      display:flex;\n",
              "      flex-wrap:wrap;\n",
              "      gap: 12px;\n",
              "    }\n",
              "\n",
              "    .colab-df-convert {\n",
              "      background-color: #E8F0FE;\n",
              "      border: none;\n",
              "      border-radius: 50%;\n",
              "      cursor: pointer;\n",
              "      display: none;\n",
              "      fill: #1967D2;\n",
              "      height: 32px;\n",
              "      padding: 0 0 0 0;\n",
              "      width: 32px;\n",
              "    }\n",
              "\n",
              "    .colab-df-convert:hover {\n",
              "      background-color: #E2EBFA;\n",
              "      box-shadow: 0px 1px 2px rgba(60, 64, 67, 0.3), 0px 1px 3px 1px rgba(60, 64, 67, 0.15);\n",
              "      fill: #174EA6;\n",
              "    }\n",
              "\n",
              "    [theme=dark] .colab-df-convert {\n",
              "      background-color: #3B4455;\n",
              "      fill: #D2E3FC;\n",
              "    }\n",
              "\n",
              "    [theme=dark] .colab-df-convert:hover {\n",
              "      background-color: #434B5C;\n",
              "      box-shadow: 0px 1px 3px 1px rgba(0, 0, 0, 0.15);\n",
              "      filter: drop-shadow(0px 1px 2px rgba(0, 0, 0, 0.3));\n",
              "      fill: #FFFFFF;\n",
              "    }\n",
              "  </style>\n",
              "\n",
              "      <script>\n",
              "        const buttonEl =\n",
              "          document.querySelector('#df-7c4d2a39-8788-4acf-b22f-5d9129c80bb8 button.colab-df-convert');\n",
              "        buttonEl.style.display =\n",
              "          google.colab.kernel.accessAllowed ? 'block' : 'none';\n",
              "\n",
              "        async function convertToInteractive(key) {\n",
              "          const element = document.querySelector('#df-7c4d2a39-8788-4acf-b22f-5d9129c80bb8');\n",
              "          const dataTable =\n",
              "            await google.colab.kernel.invokeFunction('convertToInteractive',\n",
              "                                                     [key], {});\n",
              "          if (!dataTable) return;\n",
              "\n",
              "          const docLinkHtml = 'Like what you see? Visit the ' +\n",
              "            '<a target=\"_blank\" href=https://colab.research.google.com/notebooks/data_table.ipynb>data table notebook</a>'\n",
              "            + ' to learn more about interactive tables.';\n",
              "          element.innerHTML = '';\n",
              "          dataTable['output_type'] = 'display_data';\n",
              "          await google.colab.output.renderOutput(dataTable, element);\n",
              "          const docLink = document.createElement('div');\n",
              "          docLink.innerHTML = docLinkHtml;\n",
              "          element.appendChild(docLink);\n",
              "        }\n",
              "      </script>\n",
              "    </div>\n",
              "  </div>\n",
              "  "
            ]
          },
          "metadata": {},
          "execution_count": 3
        }
      ]
    },
    {
      "cell_type": "markdown",
      "source": [
        "3. Create a `precip_flag` and set all non-rain winter precipitation types to class 1, rain class 0"
      ],
      "metadata": {
        "id": "UMjLxLjPzo8n"
      }
    },
    {
      "cell_type": "code",
      "source": [
        "df['ptype_flag'] = -1.0\n",
        "mask = df['wxcodes'].str.contains('RA')\n",
        "df.loc[mask, 'ptype_flag'] = 0\n",
        "mask = df['wxcodes'].str.contains('DZ')\n",
        "df.loc[mask, 'ptype_flag'] = 0\n",
        "mask = df['wxcodes'].str.contains('SN')\n",
        "df.loc[mask, 'ptype_flag'] = 1\n",
        "mask = df['wxcodes'].str.contains('FZRA')\n",
        "df.loc[mask, 'ptype_flag'] = 1\n",
        "mask = df['wxcodes'].str.contains('FZDZ')\n",
        "df.loc[mask, 'ptype_flag'] = 1"
      ],
      "metadata": {
        "id": "8yol5avpj8sS"
      },
      "execution_count": 4,
      "outputs": []
    },
    {
      "cell_type": "markdown",
      "source": [
        "4. Clean up data and make usable in a precip-only dataframe."
      ],
      "metadata": {
        "id": "6riygxIOz1zv"
      }
    },
    {
      "cell_type": "code",
      "source": [
        "df_precip = df[(df['ptype_flag'] >= 0) & (df['tmpf'] != 'M') & (df['dwpf'] != 'M') & (df['tmpf'] >= df['dwpf'])]\n",
        "df_precip['tmpf']=df_precip['tmpf'].astype('float')\n",
        "df_precip['dwpf']=df_precip['dwpf'].astype('float')"
      ],
      "metadata": {
        "id": "gZwQj6dclk7D",
        "colab": {
          "base_uri": "https://localhost:8080/"
        },
        "outputId": "e8aec0c8-e24e-4ea0-b4d8-5d25677c6477"
      },
      "execution_count": 5,
      "outputs": [
        {
          "output_type": "stream",
          "name": "stderr",
          "text": [
            "<ipython-input-5-5c3d3cbcd734>:2: SettingWithCopyWarning: \n",
            "A value is trying to be set on a copy of a slice from a DataFrame.\n",
            "Try using .loc[row_indexer,col_indexer] = value instead\n",
            "\n",
            "See the caveats in the documentation: https://pandas.pydata.org/pandas-docs/stable/user_guide/indexing.html#returning-a-view-versus-a-copy\n",
            "  df_precip['tmpf']=df_precip['tmpf'].astype('float')\n",
            "<ipython-input-5-5c3d3cbcd734>:3: SettingWithCopyWarning: \n",
            "A value is trying to be set on a copy of a slice from a DataFrame.\n",
            "Try using .loc[row_indexer,col_indexer] = value instead\n",
            "\n",
            "See the caveats in the documentation: https://pandas.pydata.org/pandas-docs/stable/user_guide/indexing.html#returning-a-view-versus-a-copy\n",
            "  df_precip['dwpf']=df_precip['dwpf'].astype('float')\n"
          ]
        }
      ]
    },
    {
      "cell_type": "markdown",
      "source": [
        "5. Do a quick look of data."
      ],
      "metadata": {
        "id": "-a7rh4CRz-XW"
      }
    },
    {
      "cell_type": "code",
      "source": [
        "%pylab inline\n",
        "plt.scatter(df_precip['tmpf'],df_precip['dwpf'],c=df_precip['ptype_flag'])\n",
        "plt.colorbar()\n",
        "plt.xlabel('Temperature F')\n",
        "plt.ylabel('Dewpoint F')\n",
        "plt.title('Classification of observed preciptiation type (0=liquid, 1=solid)')"
      ],
      "metadata": {
        "colab": {
          "base_uri": "https://localhost:8080/",
          "height": 330
        },
        "id": "YlCxX-KHGn7w",
        "outputId": "8f642ee8-06e5-4b6a-d3bb-55a3a3ee4fcb"
      },
      "execution_count": 6,
      "outputs": [
        {
          "output_type": "stream",
          "name": "stdout",
          "text": [
            "Populating the interactive namespace from numpy and matplotlib\n"
          ]
        },
        {
          "output_type": "execute_result",
          "data": {
            "text/plain": [
              "Text(0.5, 1.0, 'Classification of observed preciptiation type (0=liquid, 1=solid)')"
            ]
          },
          "metadata": {},
          "execution_count": 6
        },
        {
          "output_type": "display_data",
          "data": {
            "text/plain": [
              "<Figure size 432x288 with 2 Axes>"
            ],
            "image/png": "[encoded data removed]"
          },
          "metadata": {
            "needs_background": "light"
          }
        }
      ]
    },
    {
      "cell_type": "code",
      "source": [
        "import metpy\n",
        "import metpy.calc\n",
        "from metpy.units import units\n",
        "\n",
        "rh = np.array(metpy.calc.relative_humidity_from_dewpoint(df_precip['tmpf'].values * units.degF, df_precip['dwpf'].values * units.degF)) * 100\n",
        "\n",
        "df_precip['RH'] = rh"
      ],
      "metadata": {
        "colab": {
          "base_uri": "https://localhost:8080/"
        },
        "id": "o-onCO4yIemw",
        "outputId": "25eed449-d0fe-4fb4-c965-b070d8226929"
      },
      "execution_count": 7,
      "outputs": [
        {
          "output_type": "stream",
          "name": "stderr",
          "text": [
            "<ipython-input-7-628937a3efd2>:7: SettingWithCopyWarning: \n",
            "A value is trying to be set on a copy of a slice from a DataFrame.\n",
            "Try using .loc[row_indexer,col_indexer] = value instead\n",
            "\n",
            "See the caveats in the documentation: https://pandas.pydata.org/pandas-docs/stable/user_guide/indexing.html#returning-a-view-versus-a-copy\n",
            "  df_precip['RH'] = rh\n"
          ]
        }
      ]
    },
    {
      "cell_type": "markdown",
      "source": [
        "6. Create target and feature arrays"
      ],
      "metadata": {
        "id": "dbDcGB5S0aJQ"
      }
    },
    {
      "cell_type": "code",
      "source": [
        "target = df_precip.pop('ptype_flag')"
      ],
      "metadata": {
        "id": "HZchxQUBnv_6"
      },
      "execution_count": 8,
      "outputs": []
    },
    {
      "cell_type": "code",
      "source": [
        "numeric_feature_names = ['tmpf', 'dwpf', 'RH']\n",
        "numeric_features = df_precip[numeric_feature_names].astype('float')\n",
        "numeric_features.head()"
      ],
      "metadata": {
        "colab": {
          "base_uri": "https://localhost:8080/",
          "height": 206
        },
        "id": "1cNaQCvLpBkN",
        "outputId": "874ef1bf-36b5-4ec4-a2c2-d4ffe46a6661"
      },
      "execution_count": 9,
      "outputs": [
        {
          "output_type": "execute_result",
          "data": {
            "text/plain": [
              "      tmpf   dwpf         RH\n",
              "206  39.02  32.00  75.688125\n",
              "212  44.96  35.06  68.047315\n",
              "221  42.08  35.96  78.739857\n",
              "236  39.92  37.04  89.337444\n",
              "242  39.92  32.00  73.079196"
            ],
            "text/html": [
              "\n",
              "  <div id=\"df-3a05792d-05e9-4a56-85ed-078b29ca9584\">\n",
              "    <div class=\"colab-df-container\">\n",
              "      <div>\n",
              "<style scoped>\n",
              "    .dataframe tbody tr th:only-of-type {\n",
              "        vertical-align: middle;\n",
              "    }\n",
              "\n",
              "    .dataframe tbody tr th {\n",
              "        vertical-align: top;\n",
              "    }\n",
              "\n",
              "    .dataframe thead th {\n",
              "        text-align: right;\n",
              "    }\n",
              "</style>\n",
              "<table border=\"1\" class=\"dataframe\">\n",
              "  <thead>\n",
              "    <tr style=\"text-align: right;\">\n",
              "      <th></th>\n",
              "      <th>tmpf</th>\n",
              "      <th>dwpf</th>\n",
              "      <th>RH</th>\n",
              "    </tr>\n",
              "  </thead>\n",
              "  <tbody>\n",
              "    <tr>\n",
              "      <th>206</th>\n",
              "      <td>39.02</td>\n",
              "      <td>32.00</td>\n",
              "      <td>75.688125</td>\n",
              "    </tr>\n",
              "    <tr>\n",
              "      <th>212</th>\n",
              "      <td>44.96</td>\n",
              "      <td>35.06</td>\n",
              "      <td>68.047315</td>\n",
              "    </tr>\n",
              "    <tr>\n",
              "      <th>221</th>\n",
              "      <td>42.08</td>\n",
              "      <td>35.96</td>\n",
              "      <td>78.739857</td>\n",
              "    </tr>\n",
              "    <tr>\n",
              "      <th>236</th>\n",
              "      <td>39.92</td>\n",
              "      <td>37.04</td>\n",
              "      <td>89.337444</td>\n",
              "    </tr>\n",
              "    <tr>\n",
              "      <th>242</th>\n",
              "      <td>39.92</td>\n",
              "      <td>32.00</td>\n",
              "      <td>73.079196</td>\n",
              "    </tr>\n",
              "  </tbody>\n",
              "</table>\n",
              "</div>\n",
              "      <button class=\"colab-df-convert\" onclick=\"convertToInteractive('df-3a05792d-05e9-4a56-85ed-078b29ca9584')\"\n",
              "              title=\"Convert this dataframe to an interactive table.\"\n",
              "              style=\"display:none;\">\n",
              "        \n",
              "  <svg xmlns=\"http://www.w3.org/2000/svg\" height=\"24px\"viewBox=\"0 0 24 24\"\n",
              "       width=\"24px\">\n",
              "    <path d=\"M0 0h24v24H0V0z\" fill=\"none\"/>\n",
              "    <path d=\"M18.56 5.44l.94 2.06.94-2.06 2.06-.94-2.06-.94-.94-2.06-.94 2.06-2.06.94zm-11 1L8.5 8.5l.94-2.06 2.06-.94-2.06-.94L8.5 2.5l-.94 2.06-2.06.94zm10 10l.94 2.06.94-2.06 2.06-.94-2.06-.94-.94-2.06-.94 2.06-2.06.94z\"/><path d=\"M17.41 7.96l-1.37-1.37c-.4-.4-.92-.59-1.43-.59-.52 0-1.04.2-1.43.59L10.3 9.45l-7.72 7.72c-.78.78-.78 2.05 0 2.83L4 21.41c.39.39.9.59 1.41.59.51 0 1.02-.2 1.41-.59l7.78-7.78 2.81-2.81c.8-.78.8-2.07 0-2.86zM5.41 20L4 18.59l7.72-7.72 1.47 1.35L5.41 20z\"/>\n",
              "  </svg>\n",
              "      </button>\n",
              "      \n",
              "  <style>\n",
              "    .colab-df-container {\n",
              "      display:flex;\n",
              "      flex-wrap:wrap;\n",
              "      gap: 12px;\n",
              "    }\n",
              "\n",
              "    .colab-df-convert {\n",
              "      background-color: #E8F0FE;\n",
              "      border: none;\n",
              "      border-radius: 50%;\n",
              "      cursor: pointer;\n",
              "      display: none;\n",
              "      fill: #1967D2;\n",
              "      height: 32px;\n",
              "      padding: 0 0 0 0;\n",
              "      width: 32px;\n",
              "    }\n",
              "\n",
              "    .colab-df-convert:hover {\n",
              "      background-color: #E2EBFA;\n",
              "      box-shadow: 0px 1px 2px rgba(60, 64, 67, 0.3), 0px 1px 3px 1px rgba(60, 64, 67, 0.15);\n",
              "      fill: #174EA6;\n",
              "    }\n",
              "\n",
              "    [theme=dark] .colab-df-convert {\n",
              "      background-color: #3B4455;\n",
              "      fill: #D2E3FC;\n",
              "    }\n",
              "\n",
              "    [theme=dark] .colab-df-convert:hover {\n",
              "      background-color: #434B5C;\n",
              "      box-shadow: 0px 1px 3px 1px rgba(0, 0, 0, 0.15);\n",
              "      filter: drop-shadow(0px 1px 2px rgba(0, 0, 0, 0.3));\n",
              "      fill: #FFFFFF;\n",
              "    }\n",
              "  </style>\n",
              "\n",
              "      <script>\n",
              "        const buttonEl =\n",
              "          document.querySelector('#df-3a05792d-05e9-4a56-85ed-078b29ca9584 button.colab-df-convert');\n",
              "        buttonEl.style.display =\n",
              "          google.colab.kernel.accessAllowed ? 'block' : 'none';\n",
              "\n",
              "        async function convertToInteractive(key) {\n",
              "          const element = document.querySelector('#df-3a05792d-05e9-4a56-85ed-078b29ca9584');\n",
              "          const dataTable =\n",
              "            await google.colab.kernel.invokeFunction('convertToInteractive',\n",
              "                                                     [key], {});\n",
              "          if (!dataTable) return;\n",
              "\n",
              "          const docLinkHtml = 'Like what you see? Visit the ' +\n",
              "            '<a target=\"_blank\" href=https://colab.research.google.com/notebooks/data_table.ipynb>data table notebook</a>'\n",
              "            + ' to learn more about interactive tables.';\n",
              "          element.innerHTML = '';\n",
              "          dataTable['output_type'] = 'display_data';\n",
              "          await google.colab.output.renderOutput(dataTable, element);\n",
              "          const docLink = document.createElement('div');\n",
              "          docLink.innerHTML = docLinkHtml;\n",
              "          element.appendChild(docLink);\n",
              "        }\n",
              "      </script>\n",
              "    </div>\n",
              "  </div>\n",
              "  "
            ]
          },
          "metadata": {},
          "execution_count": 9
        }
      ]
    },
    {
      "cell_type": "markdown",
      "source": [
        "7. Start building the tensorflow model. First up, build a normalizer for the features to make them have a mean of 0 and standard deviation of 1."
      ],
      "metadata": {
        "id": "C_zDbeSYDCL8"
      }
    },
    {
      "cell_type": "code",
      "source": [
        "normalizer = tf.keras.layers.Normalization(axis=-1)\n",
        "normalizer.adapt(numeric_features)"
      ],
      "metadata": {
        "id": "LCkuEMZNRDp8"
      },
      "execution_count": 22,
      "outputs": []
    },
    {
      "cell_type": "code",
      "source": [
        "normalizer(numeric_features.iloc[:3])"
      ],
      "metadata": {
        "colab": {
          "base_uri": "https://localhost:8080/"
        },
        "id": "PXcFdT7FC0b2",
        "outputId": "125005cb-ad6a-4143-c37e-17544f319c9f"
      },
      "execution_count": 11,
      "outputs": [
        {
          "output_type": "execute_result",
          "data": {
            "text/plain": [
              "<tf.Tensor: shape=(3, 3), dtype=float32, numpy=\n",
              "array([[-0.42446113, -0.61375636, -1.1840907 ],\n",
              "       [-0.07779207, -0.437214  , -1.9467393 ],\n",
              "       [-0.24587393, -0.38528994, -0.87948924]], dtype=float32)>"
            ]
          },
          "metadata": {},
          "execution_count": 11
        }
      ]
    },
    {
      "cell_type": "markdown",
      "source": [
        "8. Create the model and compile it in tensorflow/keras.  Note the hyperparameters of the layers, and activation function.  You can add layers, or nodes to each layer.  The normalizer is the first layer, and last layer ('sigmoid') gives the probability of the classification. There are three more hyperparameters, the optimizer (and its learning rate), the loss function, and the metrics. See the tensorflow documentation for what you can change here."
      ],
      "metadata": {
        "id": "pbRK9UrL1duE"
      }
    },
    {
      "cell_type": "code",
      "source": [
        "def get_basic_model():\n",
        "  model = tf.keras.Sequential([\n",
        "    normalizer,\n",
        "    tf.keras.layers.Dense(128, activation='relu'),\n",
        "#Change or add more/fewer layers here\n",
        "    #tf.keras.layers.Dense(10, activation='relu'),\n",
        "    tf.keras.layers.Dense(4, activation='relu')\n",
        "  ])\n",
        "  model.compile(optimizer=tf.keras.optimizers.Adam(learning_rate=0.01),\n",
        "                loss='binary_crossentropy',\n",
        "                metrics=['accuracy'])\n",
        "  return model\n"
      ],
      "metadata": {
        "id": "pJQJ1fJDXuhs"
      },
      "execution_count": 17,
      "outputs": []
    },
    {
      "cell_type": "markdown",
      "source": [
        "9. Let's run.  Here you can change the batch size, the number of epochs, and the validation split."
      ],
      "metadata": {
        "id": "ypMqLKua13Fs"
      }
    },
    {
      "cell_type": "code",
      "source": [
        "tf.keras.backend.clear_session()\n",
        "BATCH_SIZE=1000\n",
        "model = get_basic_model()\n",
        "history = model.fit(numeric_features, target, epochs=15,  validation_split=0.3, batch_size=BATCH_SIZE)"
      ],
      "metadata": {
        "colab": {
          "base_uri": "https://localhost:8080/"
        },
        "id": "7_xB16EHFfu1",
        "outputId": "75b88204-984b-4d89-ed3e-04ae21c739c0"
      },
      "execution_count": 23,
      "outputs": [
        {
          "output_type": "stream",
          "name": "stdout",
          "text": [
            "Epoch 1/15\n",
            "171/171 [==============================] - 2s 6ms/step - loss: 1.2606 - accuracy: 0.6727 - val_loss: 1.0612 - val_accuracy: 0.7005\n",
            "Epoch 2/15\n",
            "171/171 [==============================] - 1s 5ms/step - loss: 1.5210 - accuracy: 0.7217 - val_loss: 2.0249 - val_accuracy: 0.7453\n",
            "Epoch 3/15\n",
            "171/171 [==============================] - 1s 5ms/step - loss: 2.3592 - accuracy: 0.6630 - val_loss: 2.0169 - val_accuracy: 0.7344\n",
            "Epoch 4/15\n",
            "171/171 [==============================] - 1s 9ms/step - loss: 2.3446 - accuracy: 0.6560 - val_loss: 2.0162 - val_accuracy: 0.6838\n",
            "Epoch 5/15\n",
            "171/171 [==============================] - 1s 5ms/step - loss: 2.3405 - accuracy: 0.6629 - val_loss: 2.0163 - val_accuracy: 0.7255\n",
            "Epoch 6/15\n",
            "171/171 [==============================] - 1s 5ms/step - loss: 2.3419 - accuracy: 0.6701 - val_loss: 2.0289 - val_accuracy: 0.7175\n",
            "Epoch 7/15\n",
            "171/171 [==============================] - 1s 5ms/step - loss: 2.3466 - accuracy: 0.6609 - val_loss: 2.0166 - val_accuracy: 0.7453\n",
            "Epoch 8/15\n",
            "171/171 [==============================] - 1s 6ms/step - loss: 2.3552 - accuracy: 0.6615 - val_loss: 2.1233 - val_accuracy: 0.7229\n",
            "Epoch 9/15\n",
            "171/171 [==============================] - 1s 6ms/step - loss: 2.4287 - accuracy: 0.6563 - val_loss: 2.0278 - val_accuracy: 0.7356\n",
            "Epoch 10/15\n",
            "171/171 [==============================] - 1s 5ms/step - loss: 2.3410 - accuracy: 0.6647 - val_loss: 2.0203 - val_accuracy: 0.6728\n",
            "Epoch 11/15\n",
            "171/171 [==============================] - 1s 5ms/step - loss: 2.4211 - accuracy: 0.6444 - val_loss: 2.2701 - val_accuracy: 0.6185\n",
            "Epoch 12/15\n",
            "171/171 [==============================] - 1s 5ms/step - loss: 2.3555 - accuracy: 0.6774 - val_loss: 2.0193 - val_accuracy: 0.6912\n",
            "Epoch 13/15\n",
            "171/171 [==============================] - 1s 8ms/step - loss: 2.3411 - accuracy: 0.6725 - val_loss: 2.0172 - val_accuracy: 0.7154\n",
            "Epoch 14/15\n",
            "171/171 [==============================] - 1s 7ms/step - loss: 2.3472 - accuracy: 0.6669 - val_loss: 2.0160 - val_accuracy: 0.7080\n",
            "Epoch 15/15\n",
            "171/171 [==============================] - 1s 5ms/step - loss: 2.3401 - accuracy: 0.6723 - val_loss: 2.0172 - val_accuracy: 0.7395\n"
          ]
        }
      ]
    },
    {
      "cell_type": "code",
      "source": [
        "# list all data in history\n",
        "print(history.history.keys())\n",
        "# summarize history for accuracy\n",
        "plt.plot(history.history['accuracy'])\n",
        "plt.plot(history.history['val_accuracy'])\n",
        "plt.title('model accuracy')\n",
        "plt.ylabel('accuracy')\n",
        "plt.xlabel('epoch')\n",
        "plt.legend(['train', 'test'], loc='upper left')\n",
        "plt.show()\n",
        "# summarize history for loss\n",
        "plt.plot(history.history['loss'])\n",
        "plt.plot(history.history['val_loss'])\n",
        "plt.title('model loss')\n",
        "plt.ylabel('loss')\n",
        "plt.xlabel('epoch')\n",
        "plt.legend(['train', 'test'], loc='upper left')\n",
        "plt.show()"
      ],
      "metadata": {
        "id": "MN0BSs4yXvan",
        "colab": {
          "base_uri": "https://localhost:8080/",
          "height": 590
        },
        "outputId": "f7b56934-ed88-4c37-8426-fdffb2718396"
      },
      "execution_count": 16,
      "outputs": [
        {
          "output_type": "stream",
          "name": "stdout",
          "text": [
            "dict_keys(['loss', 'accuracy', 'val_loss', 'val_accuracy'])\n"
          ]
        },
        {
          "output_type": "display_data",
          "data": {
            "text/plain": [
              "<Figure size 432x288 with 1 Axes>"
            ],
            "image/png": "[encoded data removed]"
          },
          "metadata": {
            "needs_background": "light"
          }
        },
        {
          "output_type": "display_data",
          "data": {
            "text/plain": [
              "<Figure size 432x288 with 1 Axes>"
            ],
            "image/png": "[encoded data removed]"
          },
          "metadata": {
            "needs_background": "light"
          }
        }
      ]
    },
    {
      "cell_type": "markdown",
      "source": [
        "10.  Let's make the model predict an answer!  The answer will be the probability of solid precipitation."
      ],
      "metadata": {
        "id": "oPFR8HvY4YYy"
      }
    },
    {
      "cell_type": "code",
      "source": [
        "model.predict([32, 32, 95])"
      ],
      "metadata": {
        "colab": {
          "base_uri": "https://localhost:8080/"
        },
        "id": "qe-WfgSo4eLF",
        "outputId": "a2ae6d4a-77bd-4c14-8e1d-ea6b6c0bb4cf"
      },
      "execution_count": 25,
      "outputs": [
        {
          "output_type": "stream",
          "name": "stderr",
          "text": [
            "WARNING:tensorflow:Model was constructed with shape (None, None) for input KerasTensor(type_spec=TensorSpec(shape=(None, None), dtype=tf.float32, name='normalization_1_input'), name='normalization_1_input', description=\"created by layer 'normalization_1_input'\"), but it was called on an input with incompatible shape (None,).\n"
          ]
        },
        {
          "output_type": "stream",
          "name": "stdout",
          "text": [
            "1/1 [==============================] - 0s 75ms/step\n"
          ]
        },
        {
          "output_type": "execute_result",
          "data": {
            "text/plain": [
              "array([[0.6491281 , 0.        , 0.64320856, 0.        ]], dtype=float32)"
            ]
          },
          "metadata": {},
          "execution_count": 25
        }
      ]
    },
    {
      "cell_type": "markdown",
      "source": [
        "10. Now, lets run the model over a domain of values (some are unphysical) and are out of our training domain.  But you can see the observed values and the model probabilities on this plot."
      ],
      "metadata": {
        "id": "f8P79iAZ4pPB"
      }
    },
    {
      "cell_type": "code",
      "source": [
        "temp_test = np.arange(20,50,0.1)\n",
        "tdew_test = np.arange(20,50,0.1)\n",
        "\n",
        "data = np.reshape(np.array(np.meshgrid(temp_test,tdew_test)),[2,300*300]).T\n",
        "\n",
        "output = model.predict(data)\n",
        "\n",
        "outgrid = np.reshape(output,[300,300])\n",
        "fig = plt.figure(figsize=(13,13))\n",
        "fig.set_facecolor('w')\n",
        "plt.pcolormesh(temp_test,tdew_test,outgrid, cmap='viridis', vmin=[0,1])\n",
        "plt.colorbar(label='Probability of Solid Precipitation')\n",
        "g=plt.scatter(numeric_features['tmpf'],numeric_features['dwpf'], c = target, cmap='jet', vmin=[0,1], s=0.2)\n",
        "#g.set_facecolor('none')\n",
        "plt.xlim(20,50)\n",
        "plt.ylim(20,50)\n",
        "plt.xlabel('Temperature (degF)')\n",
        "plt.ylabel('Dewpoint Temperature (degF)')\n",
        "plt.title('Observations (red-frozen, blue-liquid) and model predicted probabilities (shaded)')"
      ],
      "metadata": {
        "id": "syhrmq4Gq3fp",
        "colab": {
          "base_uri": "https://localhost:8080/",
          "height": 694
        },
        "outputId": "9cb1f85c-1158-465c-a699-a0089a7a455a"
      },
      "execution_count": 27,
      "outputs": [
        {
          "output_type": "error",
          "ename": "ValueError",
          "evalue": "ignored",
          "traceback": [
            "\u001b[0;31m---------------------------------------------------------------------------\u001b[0m",
            "\u001b[0;31mValueError\u001b[0m                                Traceback (most recent call last)",
            "\u001b[0;32m<ipython-input-27-eb358934cfcc>\u001b[0m in \u001b[0;36m<module>\u001b[0;34m\u001b[0m\n\u001b[1;32m      4\u001b[0m \u001b[0mdata\u001b[0m \u001b[0;34m=\u001b[0m \u001b[0mnp\u001b[0m\u001b[0;34m.\u001b[0m\u001b[0mreshape\u001b[0m\u001b[0;34m(\u001b[0m\u001b[0mnp\u001b[0m\u001b[0;34m.\u001b[0m\u001b[0marray\u001b[0m\u001b[0;34m(\u001b[0m\u001b[0mnp\u001b[0m\u001b[0;34m.\u001b[0m\u001b[0mmeshgrid\u001b[0m\u001b[0;34m(\u001b[0m\u001b[0mtemp_test\u001b[0m\u001b[0;34m,\u001b[0m\u001b[0mtdew_test\u001b[0m\u001b[0;34m)\u001b[0m\u001b[0;34m)\u001b[0m\u001b[0;34m,\u001b[0m\u001b[0;34m[\u001b[0m\u001b[0;36m2\u001b[0m\u001b[0;34m,\u001b[0m\u001b[0;36m300\u001b[0m\u001b[0;34m*\u001b[0m\u001b[0;36m300\u001b[0m\u001b[0;34m]\u001b[0m\u001b[0;34m)\u001b[0m\u001b[0;34m.\u001b[0m\u001b[0mT\u001b[0m\u001b[0;34m\u001b[0m\u001b[0;34m\u001b[0m\u001b[0m\n\u001b[1;32m      5\u001b[0m \u001b[0;34m\u001b[0m\u001b[0m\n\u001b[0;32m----> 6\u001b[0;31m \u001b[0moutput\u001b[0m \u001b[0;34m=\u001b[0m \u001b[0mmodel\u001b[0m\u001b[0;34m.\u001b[0m\u001b[0mpredict\u001b[0m\u001b[0;34m(\u001b[0m\u001b[0mdata\u001b[0m\u001b[0;34m)\u001b[0m\u001b[0;34m[\u001b[0m\u001b[0;34m:\u001b[0m\u001b[0;34m,\u001b[0m \u001b[0;34m:\u001b[0m\u001b[0;34m]\u001b[0m\u001b[0;34m\u001b[0m\u001b[0;34m\u001b[0m\u001b[0m\n\u001b[0m\u001b[1;32m      7\u001b[0m \u001b[0;34m\u001b[0m\u001b[0m\n\u001b[1;32m      8\u001b[0m \u001b[0moutgrid\u001b[0m \u001b[0;34m=\u001b[0m \u001b[0mnp\u001b[0m\u001b[0;34m.\u001b[0m\u001b[0mreshape\u001b[0m\u001b[0;34m(\u001b[0m\u001b[0moutput\u001b[0m\u001b[0;34m,\u001b[0m\u001b[0;34m[\u001b[0m\u001b[0;36m300\u001b[0m\u001b[0;34m,\u001b[0m\u001b[0;36m300\u001b[0m\u001b[0;34m]\u001b[0m\u001b[0;34m)\u001b[0m\u001b[0;34m\u001b[0m\u001b[0;34m\u001b[0m\u001b[0m\n",
            "\u001b[0;32m/usr/local/lib/python3.8/dist-packages/keras/utils/traceback_utils.py\u001b[0m in \u001b[0;36merror_handler\u001b[0;34m(*args, **kwargs)\u001b[0m\n\u001b[1;32m     65\u001b[0m     \u001b[0;32mexcept\u001b[0m \u001b[0mException\u001b[0m \u001b[0;32mas\u001b[0m \u001b[0me\u001b[0m\u001b[0;34m:\u001b[0m  \u001b[0;31m# pylint: disable=broad-except\u001b[0m\u001b[0;34m\u001b[0m\u001b[0;34m\u001b[0m\u001b[0m\n\u001b[1;32m     66\u001b[0m       \u001b[0mfiltered_tb\u001b[0m \u001b[0;34m=\u001b[0m \u001b[0m_process_traceback_frames\u001b[0m\u001b[0;34m(\u001b[0m\u001b[0me\u001b[0m\u001b[0;34m.\u001b[0m\u001b[0m__traceback__\u001b[0m\u001b[0;34m)\u001b[0m\u001b[0;34m\u001b[0m\u001b[0;34m\u001b[0m\u001b[0m\n\u001b[0;32m---> 67\u001b[0;31m       \u001b[0;32mraise\u001b[0m \u001b[0me\u001b[0m\u001b[0;34m.\u001b[0m\u001b[0mwith_traceback\u001b[0m\u001b[0;34m(\u001b[0m\u001b[0mfiltered_tb\u001b[0m\u001b[0;34m)\u001b[0m \u001b[0;32mfrom\u001b[0m \u001b[0;32mNone\u001b[0m\u001b[0;34m\u001b[0m\u001b[0;34m\u001b[0m\u001b[0m\n\u001b[0m\u001b[1;32m     68\u001b[0m     \u001b[0;32mfinally\u001b[0m\u001b[0;34m:\u001b[0m\u001b[0;34m\u001b[0m\u001b[0;34m\u001b[0m\u001b[0m\n\u001b[1;32m     69\u001b[0m       \u001b[0;32mdel\u001b[0m \u001b[0mfiltered_tb\u001b[0m\u001b[0;34m\u001b[0m\u001b[0;34m\u001b[0m\u001b[0m\n",
            "\u001b[0;32m/usr/local/lib/python3.8/dist-packages/keras/engine/training.py\u001b[0m in \u001b[0;36mtf__predict_function\u001b[0;34m(iterator)\u001b[0m\n\u001b[1;32m     13\u001b[0m                 \u001b[0;32mtry\u001b[0m\u001b[0;34m:\u001b[0m\u001b[0;34m\u001b[0m\u001b[0;34m\u001b[0m\u001b[0m\n\u001b[1;32m     14\u001b[0m                     \u001b[0mdo_return\u001b[0m \u001b[0;34m=\u001b[0m \u001b[0;32mTrue\u001b[0m\u001b[0;34m\u001b[0m\u001b[0;34m\u001b[0m\u001b[0m\n\u001b[0;32m---> 15\u001b[0;31m                     \u001b[0mretval_\u001b[0m \u001b[0;34m=\u001b[0m \u001b[0mag__\u001b[0m\u001b[0;34m.\u001b[0m\u001b[0mconverted_call\u001b[0m\u001b[0;34m(\u001b[0m\u001b[0mag__\u001b[0m\u001b[0;34m.\u001b[0m\u001b[0mld\u001b[0m\u001b[0;34m(\u001b[0m\u001b[0mstep_function\u001b[0m\u001b[0;34m)\u001b[0m\u001b[0;34m,\u001b[0m \u001b[0;34m(\u001b[0m\u001b[0mag__\u001b[0m\u001b[0;34m.\u001b[0m\u001b[0mld\u001b[0m\u001b[0;34m(\u001b[0m\u001b[0mself\u001b[0m\u001b[0;34m)\u001b[0m\u001b[0;34m,\u001b[0m \u001b[0mag__\u001b[0m\u001b[0;34m.\u001b[0m\u001b[0mld\u001b[0m\u001b[0;34m(\u001b[0m\u001b[0miterator\u001b[0m\u001b[0;34m)\u001b[0m\u001b[0;34m)\u001b[0m\u001b[0;34m,\u001b[0m \u001b[0;32mNone\u001b[0m\u001b[0;34m,\u001b[0m \u001b[0mfscope\u001b[0m\u001b[0;34m)\u001b[0m\u001b[0;34m\u001b[0m\u001b[0;34m\u001b[0m\u001b[0m\n\u001b[0m\u001b[1;32m     16\u001b[0m                 \u001b[0;32mexcept\u001b[0m\u001b[0;34m:\u001b[0m\u001b[0;34m\u001b[0m\u001b[0;34m\u001b[0m\u001b[0m\n\u001b[1;32m     17\u001b[0m                     \u001b[0mdo_return\u001b[0m \u001b[0;34m=\u001b[0m \u001b[0;32mFalse\u001b[0m\u001b[0;34m\u001b[0m\u001b[0;34m\u001b[0m\u001b[0m\n",
            "\u001b[0;31mValueError\u001b[0m: in user code:\n\n    File \"/usr/local/lib/python3.8/dist-packages/keras/engine/training.py\", line 1845, in predict_function  *\n        return step_function(self, iterator)\n    File \"/usr/local/lib/python3.8/dist-packages/keras/engine/training.py\", line 1834, in step_function  **\n        outputs = model.distribute_strategy.run(run_step, args=(data,))\n    File \"/usr/local/lib/python3.8/dist-packages/keras/engine/training.py\", line 1823, in run_step  **\n        outputs = model.predict_step(data)\n    File \"/usr/local/lib/python3.8/dist-packages/keras/engine/training.py\", line 1791, in predict_step\n        return self(x, training=False)\n    File \"/usr/local/lib/python3.8/dist-packages/keras/utils/traceback_utils.py\", line 67, in error_handler\n        raise e.with_traceback(filtered_tb) from None\n\n    ValueError: Exception encountered when calling layer \"normalization_1\" (type Normalization).\n    \n    Dimensions must be equal, but are 2 and 3 for '{{node sequential/normalization_1/sub}} = Sub[T=DT_FLOAT](IteratorGetNext, sequential/normalization_1/sub/y)' with input shapes: [?,2], [1,3].\n    \n    Call arguments received by layer \"normalization_1\" (type Normalization):\n      • inputs=tf.Tensor(shape=(None, 2), dtype=float32)\n"
          ]
        }
      ]
    },
    {
      "cell_type": "markdown",
      "source": [
        "Physically, we would expect frozen precipiation to be observed at higher temperatures above freezing with *lower* humidity due to sublimation.  Can your model capture this?"
      ],
      "metadata": {
        "id": "7AomHdyV5UBa"
      }
    },
    {
      "cell_type": "code",
      "source": [
        "#I tried to incorporate relative humidity into my model but unfortunately wasn't able to improve accuracy.  I need to spend more time finetuning the parameters.  \n"
      ],
      "metadata": {
        "id": "2e7KyyRK3dyr"
      },
      "execution_count": null,
      "outputs": []
    }
  ]
}